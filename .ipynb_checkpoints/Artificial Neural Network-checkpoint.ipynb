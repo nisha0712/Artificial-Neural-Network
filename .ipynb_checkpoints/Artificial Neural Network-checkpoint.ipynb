{
 "cells": [
  {
   "cell_type": "markdown",
   "metadata": {},
   "source": [
    "# Artificial Neural Network\n",
    "\n",
    "Dataset used:\n",
    "    Customer Churning dataset\n",
    "    \n",
    "Model used:\n",
    "    ANN (Artificial Neural Network) with 3 dense layers using keras library and tensorflow as backend"
   ]
  },
  {
   "cell_type": "markdown",
   "metadata": {},
   "source": [
    "# Part 1 - Data Preprocessing"
   ]
  },
  {
   "cell_type": "code",
   "execution_count": 1,
   "metadata": {},
   "outputs": [],
   "source": [
    "# Importing the libraries\n",
    "\n",
    "import numpy as np\n",
    "import matplotlib.pyplot as plt\n",
    "import pandas as pd"
   ]
  },
  {
   "cell_type": "code",
   "execution_count": 2,
   "metadata": {},
   "outputs": [],
   "source": [
    "# Importing the dataset\n",
    "\n",
    "dataset = pd.read_csv('Churn_Modelling.csv')\n",
    "\n",
    "X = dataset.iloc[:, 3:13].values\n",
    "y = dataset.iloc[:, 13].values"
   ]
  },
  {
   "cell_type": "code",
   "execution_count": 3,
   "metadata": {},
   "outputs": [
    {
     "name": "stderr",
     "output_type": "stream",
     "text": [
      "/home/deepak/anaconda3/lib/python3.6/site-packages/sklearn/preprocessing/_encoders.py:368: FutureWarning: The handling of integer data will change in version 0.22. Currently, the categories are determined based on the range [0, max(values)], while in the future they will be determined based on the unique values.\n",
      "If you want the future behaviour and silence this warning, you can specify \"categories='auto'\".\n",
      "In case you used a LabelEncoder before this OneHotEncoder to convert the categories to integers, then you can now use the OneHotEncoder directly.\n",
      "  warnings.warn(msg, FutureWarning)\n",
      "/home/deepak/anaconda3/lib/python3.6/site-packages/sklearn/preprocessing/_encoders.py:390: DeprecationWarning: The 'categorical_features' keyword is deprecated in version 0.20 and will be removed in 0.22. You can use the ColumnTransformer instead.\n",
      "  \"use the ColumnTransformer instead.\", DeprecationWarning)\n"
     ]
    }
   ],
   "source": [
    "# Encoding categorical data\n",
    "\n",
    "from sklearn.preprocessing import LabelEncoder, OneHotEncoder\n",
    "\n",
    "labelencoder_X_1 = LabelEncoder()\n",
    "X[:, 1] = labelencoder_X_1.fit_transform(X[:, 1])\n",
    "\n",
    "labelencoder_X_2 = LabelEncoder()\n",
    "X[:, 2] = labelencoder_X_2.fit_transform(X[:, 2])\n",
    "\n",
    "onehotencoder = OneHotEncoder(categorical_features = [1])\n",
    "X = onehotencoder.fit_transform(X).toarray()\n",
    "X = X[:, 1:]"
   ]
  },
  {
   "cell_type": "code",
   "execution_count": 4,
   "metadata": {},
   "outputs": [],
   "source": [
    "# Splitting the dataset into the Training set and Test set\n",
    "\n",
    "from sklearn.model_selection import train_test_split\n",
    "X_train, X_test, y_train, y_test = train_test_split(X, y, test_size = 0.2, random_state = 0)"
   ]
  },
  {
   "cell_type": "code",
   "execution_count": 5,
   "metadata": {},
   "outputs": [],
   "source": [
    "# Feature Scaling\n",
    "\n",
    "from sklearn.preprocessing import StandardScaler\n",
    "sc = StandardScaler()\n",
    "\n",
    "X_train = sc.fit_transform(X_train)\n",
    "X_test = sc.transform(X_test)"
   ]
  },
  {
   "cell_type": "markdown",
   "metadata": {},
   "source": [
    "# Part 2 - ANN building"
   ]
  },
  {
   "cell_type": "code",
   "execution_count": 6,
   "metadata": {},
   "outputs": [
    {
     "name": "stderr",
     "output_type": "stream",
     "text": [
      "Using TensorFlow backend.\n"
     ]
    }
   ],
   "source": [
    "# Importing the Keras libraries and packages\n",
    "\n",
    "import keras\n",
    "from keras.models import Sequential\n",
    "from keras.layers import Dense"
   ]
  },
  {
   "cell_type": "code",
   "execution_count": 7,
   "metadata": {},
   "outputs": [],
   "source": [
    "# Initialising the ANN\n",
    "\n",
    "classifier = Sequential()"
   ]
  },
  {
   "cell_type": "code",
   "execution_count": 8,
   "metadata": {},
   "outputs": [],
   "source": [
    "# Adding the input layer and the first hidden layer\n",
    "\n",
    "classifier.add(Dense(units = 6, kernel_initializer = 'uniform', activation = 'relu', input_dim = 11))"
   ]
  },
  {
   "cell_type": "code",
   "execution_count": 9,
   "metadata": {},
   "outputs": [],
   "source": [
    "# Adding the second hidden layer\n",
    "\n",
    "classifier.add(Dense(units = 6, kernel_initializer = 'uniform', activation = 'relu'))"
   ]
  },
  {
   "cell_type": "code",
   "execution_count": 10,
   "metadata": {},
   "outputs": [],
   "source": [
    "# Adding the output layer\n",
    "\n",
    "classifier.add(Dense(units = 1, kernel_initializer = 'uniform', activation = 'sigmoid'))"
   ]
  },
  {
   "cell_type": "code",
   "execution_count": 11,
   "metadata": {},
   "outputs": [],
   "source": [
    "# Compiling the ANN\n",
    "\n",
    "classifier.compile(optimizer = 'adam', loss = 'binary_crossentropy', metrics = ['accuracy'])"
   ]
  },
  {
   "cell_type": "code",
   "execution_count": 12,
   "metadata": {},
   "outputs": [
    {
     "name": "stdout",
     "output_type": "stream",
     "text": [
      "Epoch 1/100\n",
      "8000/8000 [==============================] - 2s 288us/step - loss: 0.4783 - acc: 0.7960\n",
      "Epoch 2/100\n",
      "8000/8000 [==============================] - 1s 122us/step - loss: 0.4248 - acc: 0.7960\n",
      "Epoch 3/100\n",
      "8000/8000 [==============================] - 1s 131us/step - loss: 0.4196 - acc: 0.8055\n",
      "Epoch 4/100\n",
      "8000/8000 [==============================] - 1s 116us/step - loss: 0.4168 - acc: 0.8267\n",
      "Epoch 5/100\n",
      "8000/8000 [==============================] - 1s 114us/step - loss: 0.4146 - acc: 0.8295\n",
      "Epoch 6/100\n",
      "8000/8000 [==============================] - 1s 124us/step - loss: 0.4133 - acc: 0.8307\n",
      "Epoch 7/100\n",
      "8000/8000 [==============================] - 1s 118us/step - loss: 0.4120 - acc: 0.8336\n",
      "Epoch 8/100\n",
      "8000/8000 [==============================] - 1s 116us/step - loss: 0.4110 - acc: 0.8321\n",
      "Epoch 9/100\n",
      "8000/8000 [==============================] - 1s 119us/step - loss: 0.4104 - acc: 0.8332\n",
      "Epoch 10/100\n",
      "8000/8000 [==============================] - 1s 116us/step - loss: 0.4094 - acc: 0.8340\n",
      "Epoch 11/100\n",
      "8000/8000 [==============================] - 1s 115us/step - loss: 0.4085 - acc: 0.8332\n",
      "Epoch 12/100\n",
      "8000/8000 [==============================] - 1s 112us/step - loss: 0.4071 - acc: 0.8342\n",
      "Epoch 13/100\n",
      "8000/8000 [==============================] - 1s 113us/step - loss: 0.4076 - acc: 0.8341\n",
      "Epoch 14/100\n",
      "8000/8000 [==============================] - 1s 111us/step - loss: 0.4070 - acc: 0.8337\n",
      "Epoch 15/100\n",
      "8000/8000 [==============================] - 1s 106us/step - loss: 0.4066 - acc: 0.8354\n",
      "Epoch 16/100\n",
      "8000/8000 [==============================] - 1s 109us/step - loss: 0.4059 - acc: 0.8346\n",
      "Epoch 17/100\n",
      "8000/8000 [==============================] - 1s 112us/step - loss: 0.4058 - acc: 0.8337\n",
      "Epoch 18/100\n",
      "8000/8000 [==============================] - 1s 141us/step - loss: 0.4057 - acc: 0.8349\n",
      "Epoch 19/100\n",
      "8000/8000 [==============================] - 1s 119us/step - loss: 0.4044 - acc: 0.8335\n",
      "Epoch 20/100\n",
      "8000/8000 [==============================] - 1s 132us/step - loss: 0.4045 - acc: 0.8342\n",
      "Epoch 21/100\n",
      "8000/8000 [==============================] - 1s 125us/step - loss: 0.4041 - acc: 0.8341\n",
      "Epoch 22/100\n",
      "8000/8000 [==============================] - 1s 115us/step - loss: 0.4045 - acc: 0.8340\n",
      "Epoch 23/100\n",
      "8000/8000 [==============================] - 1s 114us/step - loss: 0.4040 - acc: 0.8357\n",
      "Epoch 24/100\n",
      "8000/8000 [==============================] - 1s 119us/step - loss: 0.4036 - acc: 0.8341\n",
      "Epoch 25/100\n",
      "8000/8000 [==============================] - 1s 124us/step - loss: 0.4036 - acc: 0.8344\n",
      "Epoch 26/100\n",
      "8000/8000 [==============================] - 1s 113us/step - loss: 0.4040 - acc: 0.8365\n",
      "Epoch 27/100\n",
      "8000/8000 [==============================] - 1s 113us/step - loss: 0.4037 - acc: 0.8341\n",
      "Epoch 28/100\n",
      "8000/8000 [==============================] - 1s 111us/step - loss: 0.4032 - acc: 0.8326\n",
      "Epoch 29/100\n",
      "8000/8000 [==============================] - 1s 111us/step - loss: 0.4037 - acc: 0.8360\n",
      "Epoch 30/100\n",
      "8000/8000 [==============================] - 1s 115us/step - loss: 0.4036 - acc: 0.8337\n",
      "Epoch 31/100\n",
      "8000/8000 [==============================] - 1s 113us/step - loss: 0.4033 - acc: 0.8340\n",
      "Epoch 32/100\n",
      "8000/8000 [==============================] - 1s 114us/step - loss: 0.4032 - acc: 0.8344\n",
      "Epoch 33/100\n",
      "8000/8000 [==============================] - 1s 113us/step - loss: 0.4029 - acc: 0.8355\n",
      "Epoch 34/100\n",
      "8000/8000 [==============================] - 1s 112us/step - loss: 0.4034 - acc: 0.8340\n",
      "Epoch 35/100\n",
      "8000/8000 [==============================] - 1s 115us/step - loss: 0.4029 - acc: 0.8349\n",
      "Epoch 36/100\n",
      "8000/8000 [==============================] - 1s 117us/step - loss: 0.4027 - acc: 0.8347\n",
      "Epoch 37/100\n",
      "8000/8000 [==============================] - 1s 113us/step - loss: 0.4030 - acc: 0.8354\n",
      "Epoch 38/100\n",
      "8000/8000 [==============================] - 1s 115us/step - loss: 0.4028 - acc: 0.8340\n",
      "Epoch 39/100\n",
      "8000/8000 [==============================] - 1s 120us/step - loss: 0.4028 - acc: 0.8344\n",
      "Epoch 40/100\n",
      "8000/8000 [==============================] - 1s 117us/step - loss: 0.4032 - acc: 0.8334\n",
      "Epoch 41/100\n",
      "8000/8000 [==============================] - 1s 116us/step - loss: 0.4023 - acc: 0.8340\n",
      "Epoch 42/100\n",
      "8000/8000 [==============================] - 1s 118us/step - loss: 0.4034 - acc: 0.8347\n",
      "Epoch 43/100\n",
      "8000/8000 [==============================] - 1s 117us/step - loss: 0.4023 - acc: 0.8352\n",
      "Epoch 44/100\n",
      "8000/8000 [==============================] - 1s 116us/step - loss: 0.4028 - acc: 0.8344\n",
      "Epoch 45/100\n",
      "8000/8000 [==============================] - 1s 117us/step - loss: 0.4025 - acc: 0.8336\n",
      "Epoch 46/100\n",
      "8000/8000 [==============================] - 1s 116us/step - loss: 0.4024 - acc: 0.8342\n",
      "Epoch 47/100\n",
      "8000/8000 [==============================] - 1s 119us/step - loss: 0.4023 - acc: 0.8359\n",
      "Epoch 48/100\n",
      "8000/8000 [==============================] - 1s 124us/step - loss: 0.4026 - acc: 0.8347\n",
      "Epoch 49/100\n",
      "8000/8000 [==============================] - 1s 114us/step - loss: 0.4027 - acc: 0.8351\n",
      "Epoch 50/100\n",
      "8000/8000 [==============================] - 1s 116us/step - loss: 0.4025 - acc: 0.8350\n",
      "Epoch 51/100\n",
      "8000/8000 [==============================] - 1s 115us/step - loss: 0.4023 - acc: 0.8326\n",
      "Epoch 52/100\n",
      "8000/8000 [==============================] - 1s 116us/step - loss: 0.4022 - acc: 0.8341\n",
      "Epoch 53/100\n",
      "8000/8000 [==============================] - 1s 110us/step - loss: 0.4022 - acc: 0.8344\n",
      "Epoch 54/100\n",
      "8000/8000 [==============================] - 1s 110us/step - loss: 0.4024 - acc: 0.8344\n",
      "Epoch 55/100\n",
      "8000/8000 [==============================] - 1s 111us/step - loss: 0.4019 - acc: 0.8341\n",
      "Epoch 56/100\n",
      "8000/8000 [==============================] - 1s 128us/step - loss: 0.4023 - acc: 0.8341\n",
      "Epoch 57/100\n",
      "8000/8000 [==============================] - 1s 123us/step - loss: 0.4019 - acc: 0.8341\n",
      "Epoch 58/100\n",
      "8000/8000 [==============================] - 1s 119us/step - loss: 0.4024 - acc: 0.8337\n",
      "Epoch 59/100\n",
      "8000/8000 [==============================] - 1s 117us/step - loss: 0.4019 - acc: 0.8340\n",
      "Epoch 60/100\n",
      "8000/8000 [==============================] - 1s 125us/step - loss: 0.4020 - acc: 0.8339\n",
      "Epoch 61/100\n",
      "8000/8000 [==============================] - 1s 115us/step - loss: 0.4021 - acc: 0.8344\n",
      "Epoch 62/100\n",
      "8000/8000 [==============================] - 1s 113us/step - loss: 0.4022 - acc: 0.8349\n",
      "Epoch 63/100\n",
      "8000/8000 [==============================] - 1s 111us/step - loss: 0.4016 - acc: 0.8334\n",
      "Epoch 64/100\n",
      "8000/8000 [==============================] - 1s 111us/step - loss: 0.4023 - acc: 0.8331\n",
      "Epoch 65/100\n",
      "8000/8000 [==============================] - 1s 114us/step - loss: 0.4019 - acc: 0.8354\n",
      "Epoch 66/100\n",
      "8000/8000 [==============================] - 1s 112us/step - loss: 0.4020 - acc: 0.8350\n",
      "Epoch 67/100\n",
      "8000/8000 [==============================] - 1s 111us/step - loss: 0.4021 - acc: 0.8341\n",
      "Epoch 68/100\n",
      "8000/8000 [==============================] - 1s 114us/step - loss: 0.4019 - acc: 0.8342\n",
      "Epoch 69/100\n",
      "8000/8000 [==============================] - 1s 113us/step - loss: 0.4017 - acc: 0.8349\n",
      "Epoch 70/100\n",
      "8000/8000 [==============================] - 1s 114us/step - loss: 0.4020 - acc: 0.8334\n",
      "Epoch 71/100\n",
      "8000/8000 [==============================] - 1s 113us/step - loss: 0.4025 - acc: 0.8342\n",
      "Epoch 72/100\n",
      "8000/8000 [==============================] - 1s 112us/step - loss: 0.4022 - acc: 0.8324\n",
      "Epoch 73/100\n",
      "8000/8000 [==============================] - 1s 111us/step - loss: 0.4022 - acc: 0.8326\n",
      "Epoch 74/100\n",
      "8000/8000 [==============================] - 1s 114us/step - loss: 0.4021 - acc: 0.8332\n",
      "Epoch 75/100\n",
      "8000/8000 [==============================] - 1s 111us/step - loss: 0.4021 - acc: 0.8331\n",
      "Epoch 76/100\n",
      "8000/8000 [==============================] - 1s 111us/step - loss: 0.4015 - acc: 0.8340\n",
      "Epoch 77/100\n",
      "8000/8000 [==============================] - 1s 111us/step - loss: 0.4020 - acc: 0.8355\n",
      "Epoch 78/100\n",
      "8000/8000 [==============================] - 1s 110us/step - loss: 0.4021 - acc: 0.8339\n",
      "Epoch 79/100\n",
      "8000/8000 [==============================] - 1s 110us/step - loss: 0.4019 - acc: 0.8332\n",
      "Epoch 80/100\n",
      "8000/8000 [==============================] - 1s 109us/step - loss: 0.4020 - acc: 0.8339\n",
      "Epoch 81/100\n",
      "8000/8000 [==============================] - 1s 108us/step - loss: 0.4020 - acc: 0.8337\n",
      "Epoch 82/100\n"
     ]
    },
    {
     "name": "stdout",
     "output_type": "stream",
     "text": [
      "8000/8000 [==============================] - 1s 103us/step - loss: 0.4019 - acc: 0.8337\n",
      "Epoch 83/100\n",
      "8000/8000 [==============================] - 1s 106us/step - loss: 0.4016 - acc: 0.8331\n",
      "Epoch 84/100\n",
      "8000/8000 [==============================] - 1s 103us/step - loss: 0.4023 - acc: 0.8349\n",
      "Epoch 85/100\n",
      "8000/8000 [==============================] - 1s 104us/step - loss: 0.4019 - acc: 0.8340\n",
      "Epoch 86/100\n",
      "8000/8000 [==============================] - 1s 103us/step - loss: 0.4013 - acc: 0.8341\n",
      "Epoch 87/100\n",
      "8000/8000 [==============================] - 1s 106us/step - loss: 0.4020 - acc: 0.8342\n",
      "Epoch 88/100\n",
      "8000/8000 [==============================] - 1s 105us/step - loss: 0.4019 - acc: 0.8337\n",
      "Epoch 89/100\n",
      "8000/8000 [==============================] - 1s 102us/step - loss: 0.4020 - acc: 0.8354\n",
      "Epoch 90/100\n",
      "8000/8000 [==============================] - 1s 101us/step - loss: 0.4021 - acc: 0.8336\n",
      "Epoch 91/100\n",
      "8000/8000 [==============================] - 1s 104us/step - loss: 0.4014 - acc: 0.8332\n",
      "Epoch 92/100\n",
      "8000/8000 [==============================] - 1s 105us/step - loss: 0.4019 - acc: 0.8340\n",
      "Epoch 93/100\n",
      "8000/8000 [==============================] - 1s 105us/step - loss: 0.4016 - acc: 0.8342\n",
      "Epoch 94/100\n",
      "8000/8000 [==============================] - 1s 104us/step - loss: 0.4020 - acc: 0.8331\n",
      "Epoch 95/100\n",
      "8000/8000 [==============================] - 1s 105us/step - loss: 0.4012 - acc: 0.8342\n",
      "Epoch 96/100\n",
      "8000/8000 [==============================] - 1s 104us/step - loss: 0.4018 - acc: 0.8334\n",
      "Epoch 97/100\n",
      "8000/8000 [==============================] - 1s 104us/step - loss: 0.4020 - acc: 0.8342\n",
      "Epoch 98/100\n",
      "8000/8000 [==============================] - 1s 104us/step - loss: 0.4016 - acc: 0.8329\n",
      "Epoch 99/100\n",
      "8000/8000 [==============================] - 1s 105us/step - loss: 0.4016 - acc: 0.8344\n",
      "Epoch 100/100\n",
      "8000/8000 [==============================] - 1s 105us/step - loss: 0.4016 - acc: 0.8339\n"
     ]
    },
    {
     "data": {
      "text/plain": [
       "<keras.callbacks.History at 0x7f444069edd8>"
      ]
     },
     "execution_count": 12,
     "metadata": {},
     "output_type": "execute_result"
    }
   ],
   "source": [
    "# Fitting the ANN to the Training set\n",
    "\n",
    "classifier.fit(X_train, y_train, batch_size = 10, epochs = 100)"
   ]
  },
  {
   "cell_type": "markdown",
   "metadata": {},
   "source": [
    "# Part 3 - Making predictions and evaluating the model"
   ]
  },
  {
   "cell_type": "code",
   "execution_count": 13,
   "metadata": {},
   "outputs": [],
   "source": [
    "# Predicting the Test set results\n",
    "\n",
    "y_pred = classifier.predict(X_test)\n",
    "y_pred = (y_pred > 0.5)"
   ]
  },
  {
   "cell_type": "code",
   "execution_count": 14,
   "metadata": {},
   "outputs": [],
   "source": [
    "# Making the Confusion Matrix\n",
    "\n",
    "from sklearn.metrics import confusion_matrix\n",
    "cm = confusion_matrix(y_test, y_pred)"
   ]
  },
  {
   "cell_type": "code",
   "execution_count": 17,
   "metadata": {},
   "outputs": [
    {
     "name": "stdout",
     "output_type": "stream",
     "text": [
      "0.8405\n"
     ]
    }
   ],
   "source": [
    "from sklearn.metrics import accuracy_score\n",
    "print(accuracy_score(y_test,y_pred))"
   ]
  },
  {
   "cell_type": "code",
   "execution_count": null,
   "metadata": {},
   "outputs": [],
   "source": [
    "\n"
   ]
  }
 ],
 "metadata": {
  "kernelspec": {
   "display_name": "Python 3",
   "language": "python",
   "name": "python3"
  },
  "language_info": {
   "codemirror_mode": {
    "name": "ipython",
    "version": 3
   },
   "file_extension": ".py",
   "mimetype": "text/x-python",
   "name": "python",
   "nbconvert_exporter": "python",
   "pygments_lexer": "ipython3",
   "version": "3.6.8"
  }
 },
 "nbformat": 4,
 "nbformat_minor": 2
}
